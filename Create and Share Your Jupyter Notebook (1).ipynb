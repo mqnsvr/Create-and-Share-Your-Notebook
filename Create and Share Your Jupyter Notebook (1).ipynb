{
  "cells": [
    {
      "cell_type": "markdown",
      "id": "a85bfab6",
      "metadata": {},
      "source": [
        "# My Jupyter Notebook on IBM Watson Studio"
      ]
    },
    {
      "cell_type": "markdown",
      "id": "ee260d19",
      "metadata": {},
      "source": [
        "**Mansur Fromm**\n",
        "\n",
        "I study Computer Science at Goethe University."
      ]
    },
    {
      "cell_type": "markdown",
      "id": "53c1bbf6",
      "metadata": {},
      "source": [
        "*I am interested in data science because it allows me to uncover insights and patterns that would be impossible to detect with the naked eye. With Data Science i can explore and analyze vast amounts of information, revealing hidden trends and relationships that can inform decision-making and drive business success.*"
      ]
    },
    {
      "cell_type": "markdown",
      "id": "08a9ef03",
      "metadata": {},
      "source": [
        "### Here is a simple code in Python that asks the user to input their name and then prints a personalized greeting message."
      ]
    },
    {
      "cell_type": "code",
      "execution_count": 1,
      "id": "4cc892be",
      "metadata": {},
      "outputs": [
        {
          "name": "stdout",
          "output_type": "stream",
          "text": [
            "What is your name? Mansur\n",
            "Hello, Mansur! Nice to meet you!\n"
          ]
        }
      ],
      "source": [
        "name = input(\"What is your name? \")\n",
        "print(\"Hello, \" + name + \"! Nice to meet you!\")"
      ]
    },
    {
      "cell_type": "markdown",
      "id": "8c0ef6b2",
      "metadata": {},
      "source": [
        "[Click here to visit Google!](https://www.google.com)\n",
        "\n",
        "Here are my top 5 favorite programming languages:\n",
        "\n",
        "1. Python\n",
        "2. JavaScript\n",
        "3. Java\n",
        "4. C++\n",
        "5. Ruby\n",
        "\n",
        ">\"Programming is not about what you know, it's about what you can figure out. - Chris Pine\"\n",
        "\n",
        "\n",
        "\n",
        "\n"
      ]
    },
    {
      "cell_type": "code",
      "execution_count": null,
      "id": "67a79359",
      "metadata": {},
      "outputs": [],
      "source": []
    }
  ],
  "metadata": {
    "kernelspec": {
      "display_name": "Python 3 (ipykernel)",
      "language": "python",
      "name": "python3"
    },
    "language_info": {
      "codemirror_mode": {
        "name": "ipython",
        "version": 3
      },
      "file_extension": ".py",
      "mimetype": "text/x-python",
      "name": "python",
      "nbconvert_exporter": "python",
      "pygments_lexer": "ipython3",
      "version": "3.9.7"
    }
  },
  "nbformat": 4,
  "nbformat_minor": 5
}