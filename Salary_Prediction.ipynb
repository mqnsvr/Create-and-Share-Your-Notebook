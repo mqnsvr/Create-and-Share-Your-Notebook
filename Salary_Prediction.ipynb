{
  "nbformat": 4,
  "nbformat_minor": 0,
  "metadata": {
    "colab": {
      "provenance": [],
      "authorship_tag": "ABX9TyOTZNnTtzqRzGgQfUTnwbAY",
      "include_colab_link": true
    },
    "kernelspec": {
      "name": "python3",
      "display_name": "Python 3"
    },
    "language_info": {
      "name": "python"
    }
  },
  "cells": [
    {
      "cell_type": "markdown",
      "metadata": {
        "id": "view-in-github",
        "colab_type": "text"
      },
      "source": [
        "<a href=\"https://colab.research.google.com/github/mqnsvr/Create-and-Share-Your-Notebook/blob/main/Salary_Prediction.ipynb\" target=\"_parent\"><img src=\"https://colab.research.google.com/assets/colab-badge.svg\" alt=\"Open In Colab\"/></a>"
      ]
    },
    {
      "cell_type": "code",
      "source": [
        "pip install selenium"
      ],
      "metadata": {
        "colab": {
          "base_uri": "https://localhost:8080/"
        },
        "id": "qcBIxcI0QMff",
        "outputId": "5c80569f-129d-4dfe-c6b4-e16e5f516ceb"
      },
      "execution_count": 3,
      "outputs": [
        {
          "output_type": "stream",
          "name": "stdout",
          "text": [
            "Collecting selenium\n",
            "  Downloading selenium-4.11.2-py3-none-any.whl (7.2 MB)\n",
            "\u001b[2K     \u001b[90m━━━━━━━━━━━━━━━━━━━━━━━━━━━━━━━━━━━━━━━━\u001b[0m \u001b[32m7.2/7.2 MB\u001b[0m \u001b[31m23.8 MB/s\u001b[0m eta \u001b[36m0:00:00\u001b[0m\n",
            "\u001b[?25hRequirement already satisfied: urllib3[socks]<3,>=1.26 in /usr/local/lib/python3.10/dist-packages (from selenium) (2.0.4)\n",
            "Collecting trio~=0.17 (from selenium)\n",
            "  Downloading trio-0.22.2-py3-none-any.whl (400 kB)\n",
            "\u001b[2K     \u001b[90m━━━━━━━━━━━━━━━━━━━━━━━━━━━━━━━━━━━━━━\u001b[0m \u001b[32m400.2/400.2 kB\u001b[0m \u001b[31m31.4 MB/s\u001b[0m eta \u001b[36m0:00:00\u001b[0m\n",
            "\u001b[?25hCollecting trio-websocket~=0.9 (from selenium)\n",
            "  Downloading trio_websocket-0.10.3-py3-none-any.whl (17 kB)\n",
            "Requirement already satisfied: certifi>=2021.10.8 in /usr/local/lib/python3.10/dist-packages (from selenium) (2023.7.22)\n",
            "Requirement already satisfied: attrs>=20.1.0 in /usr/local/lib/python3.10/dist-packages (from trio~=0.17->selenium) (23.1.0)\n",
            "Requirement already satisfied: sortedcontainers in /usr/local/lib/python3.10/dist-packages (from trio~=0.17->selenium) (2.4.0)\n",
            "Requirement already satisfied: idna in /usr/local/lib/python3.10/dist-packages (from trio~=0.17->selenium) (3.4)\n",
            "Collecting outcome (from trio~=0.17->selenium)\n",
            "  Downloading outcome-1.2.0-py2.py3-none-any.whl (9.7 kB)\n",
            "Requirement already satisfied: sniffio in /usr/local/lib/python3.10/dist-packages (from trio~=0.17->selenium) (1.3.0)\n",
            "Requirement already satisfied: exceptiongroup>=1.0.0rc9 in /usr/local/lib/python3.10/dist-packages (from trio~=0.17->selenium) (1.1.3)\n",
            "Collecting wsproto>=0.14 (from trio-websocket~=0.9->selenium)\n",
            "  Downloading wsproto-1.2.0-py3-none-any.whl (24 kB)\n",
            "Requirement already satisfied: pysocks!=1.5.7,<2.0,>=1.5.6 in /usr/local/lib/python3.10/dist-packages (from urllib3[socks]<3,>=1.26->selenium) (1.7.1)\n",
            "Collecting h11<1,>=0.9.0 (from wsproto>=0.14->trio-websocket~=0.9->selenium)\n",
            "  Downloading h11-0.14.0-py3-none-any.whl (58 kB)\n",
            "\u001b[2K     \u001b[90m━━━━━━━━━━━━━━━━━━━━━━━━━━━━━━━━━━━━━━━━\u001b[0m \u001b[32m58.3/58.3 kB\u001b[0m \u001b[31m6.5 MB/s\u001b[0m eta \u001b[36m0:00:00\u001b[0m\n",
            "\u001b[?25hInstalling collected packages: outcome, h11, wsproto, trio, trio-websocket, selenium\n",
            "Successfully installed h11-0.14.0 outcome-1.2.0 selenium-4.11.2 trio-0.22.2 trio-websocket-0.10.3 wsproto-1.2.0\n"
          ]
        }
      ]
    },
    {
      "cell_type": "code",
      "execution_count": 4,
      "metadata": {
        "id": "B0BNVetePG6J"
      },
      "outputs": [],
      "source": [
        "from selenium.common.exceptions import NoSuchElementException, ElementClickInterceptedException\n",
        "from selenium import webdriver\n",
        "import time\n",
        "import pandas as pd"
      ]
    },
    {
      "cell_type": "code",
      "source": [
        "def get_jobs(keyword, num_jobs, verbose):\n",
        "\n",
        "    '''Gathers jobs as a dataframe, scraped from Glassdoor'''\n",
        "\n",
        "    #Initializing the webdriver\n",
        "    options = webdriver.ChromeOptions()\n",
        "\n",
        "    #Uncomment the line below if you'd like to scrape without a new Chrome window every time.\n",
        "    #options.add_argument('headless')\n",
        "\n",
        "    #Change the path to where chromedriver is in your home folder.\n",
        "    driver = webdriver.Chrome(executable_path=\"/Users/omersakarya/Documents/GitHub/scraping-glassdoor-selenium/chromedriver\", options=options)\n",
        "    driver.set_window_size(1120, 1000)\n",
        "\n",
        "    url = 'https://www.glassdoor.com/Job/jobs.htm?sc.keyword=\"' + keyword + '\"&locT=C&locId=1147401&locKeyword=San%20Francisco,%20CA&jobType=all&fromAge=-1&minSalary=0&includeNoSalaryJobs=true&radius=100&cityId=-1&minRating=0.0&industryId=-1&sgocId=-1&seniorityType=all&companyId=-1&employerSizes=0&applicationType=0&remoteWorkType=0'\n",
        "    driver.get(url)\n",
        "    jobs = []\n",
        "\n",
        "    while len(jobs) < num_jobs:  #If true, should be still looking for new jobs.\n",
        "\n",
        "        #Let the page load. Change this number based on your internet speed.\n",
        "        #Or, wait until the webpage is loaded, instead of hardcoding it.\n",
        "        time.sleep(4)\n",
        "\n",
        "        #Test for the \"Sign Up\" prompt and get rid of it.\n",
        "        try:\n",
        "            driver.find_element_by_class_name(\"selected\").click()\n",
        "        except ElementClickInterceptedException:\n",
        "            pass\n",
        "\n",
        "        time.sleep(.1)\n",
        "\n",
        "        try:\n",
        "            driver.find_element_by_class_name(\"ModalStyle__xBtn___29PT9\").click()  #clicking to the X.\n",
        "        except NoSuchElementException:\n",
        "            pass\n",
        "\n",
        "\n",
        "        #Going through each job in this page\n",
        "        job_buttons = driver.find_elements_by_class_name(\"jl\")  #jl for Job Listing. These are the buttons we're going to click.\n",
        "        for job_button in job_buttons:\n",
        "\n",
        "            print(\"Progress: {}\".format(\"\" + str(len(jobs)) + \"/\" + str(num_jobs)))\n",
        "            if len(jobs) >= num_jobs:\n",
        "                break\n",
        "\n",
        "            job_button.click()  #You might\n",
        "            time.sleep(1)\n",
        "            collected_successfully = False\n",
        "\n",
        "            while not collected_successfully:\n",
        "                try:\n",
        "                    company_name = driver.find_element_by_xpath('.//div[@class=\"employerName\"]').text\n",
        "                    location = driver.find_element_by_xpath('.//div[@class=\"location\"]').text\n",
        "                    job_title = driver.find_element_by_xpath('.//div[contains(@class, \"title\")]').text\n",
        "                    job_description = driver.find_element_by_xpath('.//div[@class=\"jobDescriptionContent desc\"]').text\n",
        "                    collected_successfully = True\n",
        "                except:\n",
        "                    time.sleep(5)\n",
        "\n",
        "            try:\n",
        "                salary_estimate = driver.find_element_by_xpath('.//span[@class=\"gray small salary\"]').text\n",
        "            except NoSuchElementException:\n",
        "                salary_estimate = -1 #You need to set a \"not found value. It's important.\"\n",
        "\n",
        "            try:\n",
        "                rating = driver.find_element_by_xpath('.//span[@class=\"rating\"]').text\n",
        "            except NoSuchElementException:\n",
        "                rating = -1 #You need to set a \"not found value. It's important.\"\n",
        "\n",
        "            #Printing for debugging\n",
        "            if verbose:\n",
        "                print(\"Job Title: {}\".format(job_title))\n",
        "                print(\"Salary Estimate: {}\".format(salary_estimate))\n",
        "                print(\"Job Description: {}\".format(job_description[:500]))\n",
        "                print(\"Rating: {}\".format(rating))\n",
        "                print(\"Company Name: {}\".format(company_name))\n",
        "                print(\"Location: {}\".format(location))\n",
        "\n",
        "            #Going to the Company tab...\n",
        "            #clicking on this:\n",
        "            #<div class=\"tab\" data-tab-type=\"overview\"><span>Company</span></div>\n",
        "            try:\n",
        "                driver.find_element_by_xpath('.//div[@class=\"tab\" and @data-tab-type=\"overview\"]').click()\n",
        "\n",
        "                try:\n",
        "                    #<div class=\"infoEntity\">\n",
        "                    #    <label>Headquarters</label>\n",
        "                    #    <span class=\"value\">San Francisco, CA</span>\n",
        "                    #</div>\n",
        "                    headquarters = driver.find_element_by_xpath('.//div[@class=\"infoEntity\"]//label[text()=\"Headquarters\"]//following-sibling::*').text\n",
        "                except NoSuchElementException:\n",
        "                    headquarters = -1\n",
        "\n",
        "                try:\n",
        "                    size = driver.find_element_by_xpath('.//div[@class=\"infoEntity\"]//label[text()=\"Size\"]//following-sibling::*').text\n",
        "                except NoSuchElementException:\n",
        "                    size = -1\n",
        "\n",
        "                try:\n",
        "                    founded = driver.find_element_by_xpath('.//div[@class=\"infoEntity\"]//label[text()=\"Founded\"]//following-sibling::*').text\n",
        "                except NoSuchElementException:\n",
        "                    founded = -1\n",
        "\n",
        "                try:\n",
        "                    type_of_ownership = driver.find_element_by_xpath('.//div[@class=\"infoEntity\"]//label[text()=\"Type\"]//following-sibling::*').text\n",
        "                except NoSuchElementException:\n",
        "                    type_of_ownership = -1\n",
        "\n",
        "                try:\n",
        "                    industry = driver.find_element_by_xpath('.//div[@class=\"infoEntity\"]//label[text()=\"Industry\"]//following-sibling::*').text\n",
        "                except NoSuchElementException:\n",
        "                    industry = -1\n",
        "\n",
        "                try:\n",
        "                    sector = driver.find_element_by_xpath('.//div[@class=\"infoEntity\"]//label[text()=\"Sector\"]//following-sibling::*').text\n",
        "                except NoSuchElementException:\n",
        "                    sector = -1\n",
        "\n",
        "                try:\n",
        "                    revenue = driver.find_element_by_xpath('.//div[@class=\"infoEntity\"]//label[text()=\"Revenue\"]//following-sibling::*').text\n",
        "                except NoSuchElementException:\n",
        "                    revenue = -1\n",
        "\n",
        "                try:\n",
        "                    competitors = driver.find_element_by_xpath('.//div[@class=\"infoEntity\"]//label[text()=\"Competitors\"]//following-sibling::*').text\n",
        "                except NoSuchElementException:\n",
        "                    competitors = -1\n",
        "\n",
        "            except NoSuchElementException:  #Rarely, some job postings do not have the \"Company\" tab.\n",
        "                headquarters = -1\n",
        "                size = -1\n",
        "                founded = -1\n",
        "                type_of_ownership = -1\n",
        "                industry = -1\n",
        "                sector = -1\n",
        "                revenue = -1\n",
        "                competitors = -1\n",
        "\n",
        "\n",
        "            if verbose:\n",
        "                print(\"Headquarters: {}\".format(headquarters))\n",
        "                print(\"Size: {}\".format(size))\n",
        "                print(\"Founded: {}\".format(founded))\n",
        "                print(\"Type of Ownership: {}\".format(type_of_ownership))\n",
        "                print(\"Industry: {}\".format(industry))\n",
        "                print(\"Sector: {}\".format(sector))\n",
        "                print(\"Revenue: {}\".format(revenue))\n",
        "                print(\"Competitors: {}\".format(competitors))\n",
        "                print(\"@@@@@@@@@@@@@@@@@@@@@@@@@@@@@@@@@@@@@@@@@@@@@@@@@@@@\")\n",
        "\n",
        "            jobs.append({\"Job Title\" : job_title,\n",
        "            \"Salary Estimate\" : salary_estimate,\n",
        "            \"Job Description\" : job_description,\n",
        "            \"Rating\" : rating,\n",
        "            \"Company Name\" : company_name,\n",
        "            \"Location\" : location,\n",
        "            \"Headquarters\" : headquarters,\n",
        "            \"Size\" : size,\n",
        "            \"Founded\" : founded,\n",
        "            \"Type of ownership\" : type_of_ownership,\n",
        "            \"Industry\" : industry,\n",
        "            \"Sector\" : sector,\n",
        "            \"Revenue\" : revenue,\n",
        "            \"Competitors\" : competitors})\n",
        "            #add job to jobs\n",
        "\n",
        "        #Clicking on the \"next page\" button\n",
        "        try:\n",
        "            driver.find_element_by_xpath('.//li[@class=\"next\"]//a').click()\n",
        "        except NoSuchElementException:\n",
        "            print(\"Scraping terminated before reaching target number of jobs. Needed {}, got {}.\".format(num_jobs, len(jobs)))\n",
        "            break\n",
        "\n",
        "    return pd.DataFrame(jobs)  #This line converts the dictionary object into a pandas DataFrame."
      ],
      "metadata": {
        "id": "jVBruZkePRQP"
      },
      "execution_count": 5,
      "outputs": []
    },
    {
      "cell_type": "code",
      "source": [
        "#This line will open a new chrome window and start the scraping.\n",
        "df = get_jobs(\"data scientist\", 5, False)\n",
        "df"
      ],
      "metadata": {
        "colab": {
          "base_uri": "https://localhost:8080/",
          "height": 357
        },
        "id": "yyNu0BWnPSLx",
        "outputId": "e36e2760-e911-49d8-b45e-ddea4df59b8c"
      },
      "execution_count": 6,
      "outputs": [
        {
          "output_type": "error",
          "ename": "TypeError",
          "evalue": "ignored",
          "traceback": [
            "\u001b[0;31m---------------------------------------------------------------------------\u001b[0m",
            "\u001b[0;31mTypeError\u001b[0m                                 Traceback (most recent call last)",
            "\u001b[0;32m<ipython-input-6-b005ddc5d565>\u001b[0m in \u001b[0;36m<cell line: 2>\u001b[0;34m()\u001b[0m\n\u001b[1;32m      1\u001b[0m \u001b[0;31m#This line will open a new chrome window and start the scraping.\u001b[0m\u001b[0;34m\u001b[0m\u001b[0;34m\u001b[0m\u001b[0m\n\u001b[0;32m----> 2\u001b[0;31m \u001b[0mdf\u001b[0m \u001b[0;34m=\u001b[0m \u001b[0mget_jobs\u001b[0m\u001b[0;34m(\u001b[0m\u001b[0;34m\"data scientist\"\u001b[0m\u001b[0;34m,\u001b[0m \u001b[0;36m5\u001b[0m\u001b[0;34m,\u001b[0m \u001b[0;32mFalse\u001b[0m\u001b[0;34m)\u001b[0m\u001b[0;34m\u001b[0m\u001b[0;34m\u001b[0m\u001b[0m\n\u001b[0m\u001b[1;32m      3\u001b[0m \u001b[0mdf\u001b[0m\u001b[0;34m\u001b[0m\u001b[0;34m\u001b[0m\u001b[0m\n",
            "\u001b[0;32m<ipython-input-5-a0af2e6e1a73>\u001b[0m in \u001b[0;36mget_jobs\u001b[0;34m(keyword, num_jobs, verbose)\u001b[0m\n\u001b[1;32m     10\u001b[0m \u001b[0;34m\u001b[0m\u001b[0m\n\u001b[1;32m     11\u001b[0m     \u001b[0;31m#Change the path to where chromedriver is in your home folder.\u001b[0m\u001b[0;34m\u001b[0m\u001b[0;34m\u001b[0m\u001b[0m\n\u001b[0;32m---> 12\u001b[0;31m     \u001b[0mdriver\u001b[0m \u001b[0;34m=\u001b[0m \u001b[0mwebdriver\u001b[0m\u001b[0;34m.\u001b[0m\u001b[0mChrome\u001b[0m\u001b[0;34m(\u001b[0m\u001b[0mexecutable_path\u001b[0m\u001b[0;34m=\u001b[0m\u001b[0;34m\"/Users/omersakarya/Documents/GitHub/scraping-glassdoor-selenium/chromedriver\"\u001b[0m\u001b[0;34m,\u001b[0m \u001b[0moptions\u001b[0m\u001b[0;34m=\u001b[0m\u001b[0moptions\u001b[0m\u001b[0;34m)\u001b[0m\u001b[0;34m\u001b[0m\u001b[0;34m\u001b[0m\u001b[0m\n\u001b[0m\u001b[1;32m     13\u001b[0m     \u001b[0mdriver\u001b[0m\u001b[0;34m.\u001b[0m\u001b[0mset_window_size\u001b[0m\u001b[0;34m(\u001b[0m\u001b[0;36m1120\u001b[0m\u001b[0;34m,\u001b[0m \u001b[0;36m1000\u001b[0m\u001b[0;34m)\u001b[0m\u001b[0;34m\u001b[0m\u001b[0;34m\u001b[0m\u001b[0m\n\u001b[1;32m     14\u001b[0m \u001b[0;34m\u001b[0m\u001b[0m\n",
            "\u001b[0;31mTypeError\u001b[0m: WebDriver.__init__() got an unexpected keyword argument 'executable_path'"
          ]
        }
      ]
    },
    {
      "cell_type": "code",
      "source": [],
      "metadata": {
        "id": "S7f-yArPQSn2"
      },
      "execution_count": null,
      "outputs": []
    }
  ]
}