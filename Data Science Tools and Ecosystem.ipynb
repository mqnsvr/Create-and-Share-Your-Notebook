{
 "cells": [
  {
   "cell_type": "markdown",
   "id": "e67df313-4884-4c9e-8e5b-dd6367dcbfea",
   "metadata": {},
   "source": [
    "# Data Science Tools and Ecosystem"
   ]
  },
  {
   "cell_type": "markdown",
   "id": "18c148b0-8669-40d3-832d-0bfbcea6f9f5",
   "metadata": {},
   "source": [
    "In this notebook, Data Science Tools and Ecosystem are summarized."
   ]
  },
  {
   "cell_type": "markdown",
   "id": "a922b8e9-cbec-4833-84ec-92a05f8a6af7",
   "metadata": {},
   "source": [
    "**Objectives:**\n",
    "\n",
    "- List popular languages for Data Science\n",
    "- create a table in a markdown cell\n",
    "- execute code with a comment line above\n",
    "- use different fonts in markdown cells"
   ]
  },
  {
   "cell_type": "markdown",
   "id": "08dd1f78-aed9-46ce-89e6-21dae346be1f",
   "metadata": {},
   "source": [
    "Some of the popular languages that Data Scientists use are:\n",
    "\n",
    "1. Python\n",
    "2. R\n",
    "3. SQL"
   ]
  },
  {
   "cell_type": "markdown",
   "id": "af2d17b2-f57e-465a-9282-41862d952b28",
   "metadata": {},
   "source": [
    "Some of the commonly used libraries used by Data Scientists include:\n",
    "\n",
    "1. Pandas\n",
    "2. NumPy\n",
    "3. Matplotlib\n",
    "\n",
    "\n",
    "    "
   ]
  },
  {
   "cell_type": "markdown",
   "id": "a61eb733-57e4-4776-8210-294de94850d1",
   "metadata": {},
   "source": [
    "| Data Science Tools | \n",
    "| --- | \n",
    "| Jupyter Notebook| \n",
    "| Spyder|\n",
    "| RStudio |\n"
   ]
  },
  {
   "cell_type": "markdown",
   "id": "ddaaafc5-8687-481c-a8dc-1b86e43e4d55",
   "metadata": {},
   "source": [
    "### Below are a few examples of evaluating arithmetic expressions in Python"
   ]
  },
  {
   "cell_type": "code",
   "execution_count": 1,
   "id": "aadf2e98-4c91-4497-bae8-c46ef547ee56",
   "metadata": {},
   "outputs": [
    {
     "data": {
      "text/plain": [
       "17"
      ]
     },
     "execution_count": 1,
     "metadata": {},
     "output_type": "execute_result"
    }
   ],
   "source": [
    "#  This a simple arithmetic expression to mutiply then add integers\n",
    "(3*4)+5"
   ]
  },
  {
   "cell_type": "code",
   "execution_count": 4,
   "id": "6abc1230-5f54-44d0-b292-20ca7e7323c1",
   "metadata": {},
   "outputs": [
    {
     "name": "stdout",
     "output_type": "stream",
     "text": [
      "3.3333333333333335\n"
     ]
    }
   ],
   "source": [
    "#  This will convert 200 minutes to hours by diving by 60\n",
    "\n",
    "min = 200\n",
    "hours = min /60\n",
    "print(hours)\n"
   ]
  },
  {
   "cell_type": "markdown",
   "id": "96133a0f-30d0-457c-a5d8-15a31f9cc213",
   "metadata": {},
   "source": [
    "## Author \n",
    "Mansur Fromm"
   ]
  },
  {
   "cell_type": "code",
   "execution_count": null,
   "id": "754357f5-09e0-4f97-9ebe-11149227862b",
   "metadata": {},
   "outputs": [],
   "source": []
  }
 ],
 "metadata": {
  "kernelspec": {
   "display_name": "Python",
   "language": "python",
   "name": "conda-env-python-py"
  },
  "language_info": {
   "codemirror_mode": {
    "name": "ipython",
    "version": 3
   },
   "file_extension": ".py",
   "mimetype": "text/x-python",
   "name": "python",
   "nbconvert_exporter": "python",
   "pygments_lexer": "ipython3",
   "version": "3.7.12"
  }
 },
 "nbformat": 4,
 "nbformat_minor": 5
}
